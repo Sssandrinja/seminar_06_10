{
 "cells": [
  {
   "cell_type": "code",
   "execution_count": 1,
   "id": "9168b461",
   "metadata": {},
   "outputs": [
    {
     "name": "stdout",
     "output_type": "stream",
     "text": [
      "aa is ser\n"
     ]
    }
   ],
   "source": [
    "# первое задание 4 семинара\n",
    "str1 = 'katya is super'\n",
    "str2 = 'serg is bad'\n",
    "common_chars = '' # находим общие символы \n",
    "for char in str1: \n",
    "    if char in str2:\n",
    "        common_chars += char # складываем общие символы \n",
    "print(common_chars)  # выводим на экран"
   ]
  },
  {
   "cell_type": "code",
   "execution_count": 1,
   "id": "2a773eea",
   "metadata": {
    "scrolled": true
   },
   "outputs": [
    {
     "name": "stdout",
     "output_type": "stream",
     "text": [
      "Введите произвольное целое число: 6\n",
      "48\n"
     ]
    }
   ],
   "source": [
    "# второе задание 4 семинара \n",
    "n = int(input('Введите произвольное целое число: '))\n",
    "\n",
    "double_factorial = 1 \n",
    "    \n",
    "for i in range(n, 1, -2): # n - первое число, с которого начнётся цикл. Второе - то, где закончится \n",
    "# (если 1, то закончится на 2. 1 не включительно, но n включительно)\n",
    "    double_factorial *= i\n",
    "print(double_factorial) "
   ]
  },
  {
   "cell_type": "code",
   "execution_count": 1,
   "id": "c814358b",
   "metadata": {},
   "outputs": [
    {
     "name": "stdout",
     "output_type": "stream",
     "text": [
      "4\n",
      "6\n",
      "5\n"
     ]
    }
   ],
   "source": [
    "# четвертое задание 4 семинар\n",
    "\n",
    "a = int(input()) \n",
    "b = int(input())\n",
    "for num in range(a,b+1): # находим все простые числа в диапозоне от a до b\n",
    "    for i in range(2,num): \n",
    "        if num % i == 0:\n",
    "            break\n",
    "    else:\n",
    "        print(num) # выводим их на экран"
   ]
  },
  {
   "cell_type": "code",
   "execution_count": 3,
   "id": "1243eaaf",
   "metadata": {},
   "outputs": [
    {
     "name": "stdout",
     "output_type": "stream",
     "text": [
      "Введите значение: katyasashaevgenyiurevich\n",
      "___katyasashaevgenyiurevich___\n"
     ]
    }
   ],
   "source": [
    "# пятое задание 4 семинар\n",
    "\n",
    "while True:\n",
    "    user_input = input('Введите значение: ')\n",
    "    if user_input == \"STOP\":\n",
    "        print('Program interrupted by user')\n",
    "        break\n",
    "        \n",
    "    if user_input < 'a': # все, у кого код меньше чем у a\n",
    "        print(\"Too early in the dictionary. Try again!\")\n",
    "        continue \n",
    "        \n",
    "    formatted_input = user_input.center(30, '_')\n",
    "    print(formatted_input)\n",
    "    break    "
   ]
  },
  {
   "cell_type": "code",
   "execution_count": null,
   "id": "6a3c5c7e",
   "metadata": {},
   "outputs": [],
   "source": []
  }
 ],
 "metadata": {
  "kernelspec": {
   "display_name": "Python 3 (ipykernel)",
   "language": "python",
   "name": "python3"
  },
  "language_info": {
   "codemirror_mode": {
    "name": "ipython",
    "version": 3
   },
   "file_extension": ".py",
   "mimetype": "text/x-python",
   "name": "python",
   "nbconvert_exporter": "python",
   "pygments_lexer": "ipython3",
   "version": "3.10.9"
  }
 },
 "nbformat": 4,
 "nbformat_minor": 5
}
